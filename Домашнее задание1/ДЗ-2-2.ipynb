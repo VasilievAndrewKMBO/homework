{
 "cells": [
  {
   "cell_type": "markdown",
   "metadata": {
    "collapsed": true
   },
   "source": [
    "# Домашнее задание 2 \n",
    "\n",
    "Необходимо реализовать схему, указанную в hw_diagram.pdf \n"
   ]
  },
  {
   "cell_type": "markdown",
   "metadata": {},
   "source": [
    "## Описание таблиц \n",
    "PeopleStatus - Описание возможных статусов людей, которые есть в университете (Студент, Преподаватель).\n",
    "Faculties - Описание факультетов, которые есть в университете (KIB, IT, и т.д.).\n",
    "People - Информация о людях в университете (Имя, почта, ссылка на факультет, ссылка на статус).\n",
    "Classes - Описание возможных классов в университете (название (Математический анализ) и ссылка на факультет).\n",
    "Semesters - Справочник семестров факультета(например, Осень2016, '2016-01-01', '2016-12-31').\n",
    "ClassesSchedule - Расписание классов (ссылки на семестр, преподавателя и курс, день недели, время начала).\n",
    "StudentsSchedule - Таблица, описывающая, какой студент ходит на какой курс."
   ]
  },
  {
   "cell_type": "code",
   "execution_count": 1,
   "metadata": {
    "collapsed": true
   },
   "outputs": [],
   "source": [
    "# Не забудьте настроить соединение!"
   ]
  },
  {
   "cell_type": "code",
   "execution_count": 2,
   "metadata": {
    "collapsed": false
   },
   "outputs": [
    {
     "data": {
      "text/plain": [
       "'Connected: None@university'"
      ]
     },
     "execution_count": 2,
     "metadata": {},
     "output_type": "execute_result"
    }
   ],
   "source": [
    "%load_ext sql\n",
    "%sql sqlite:///university"
   ]
  },
  {
   "cell_type": "markdown",
   "metadata": {},
   "source": [
    "## Создание таблиц\n",
    "Напишет ниже скрипты по созданию таблиц с учетом всех внешних ключей."
   ]
  },
  {
   "cell_type": "code",
   "execution_count": 8,
   "metadata": {
    "collapsed": false
   },
   "outputs": [
    {
     "name": "stdout",
     "output_type": "stream",
     "text": [
      "1 rows affected.\n",
      "1 rows affected.\n",
      "1 rows affected.\n",
      "1 rows affected.\n",
      "1 rows affected.\n",
      "1 rows affected.\n",
      "1 rows affected.\n",
      "Done.\n",
      "1 rows affected.\n",
      "1 rows affected.\n",
      "1 rows affected.\n",
      "1 rows affected.\n",
      "1 rows affected.\n",
      "1 rows affected.\n",
      "1 rows affected.\n"
     ]
    },
    {
     "data": {
      "text/plain": [
       "[]"
      ]
     },
     "execution_count": 8,
     "metadata": {},
     "output_type": "execute_result"
    }
   ],
   "source": [
    "%%sql\n",
    "drop table if exists StudentsSchedule;\n",
    "drop table if exists ClassesSchedule;\n",
    "drop table if exists Classes;\n",
    "drop table if exists People;\n",
    "drop table if exists PeopleStatus;\n",
    "drop table if exists Faculties;\n",
    "drop table if exists Semesters;\n",
    "\n",
    "pragma foreign_keys = ON;\n",
    "create table Faculties (\n",
    "    id integer primary key,\n",
    "    name varchar);\n",
    "create table PeopleStatus (\n",
    "    id integer primary key,\n",
    "    name varchar);\n",
    "create table People (\n",
    "    id integer primary key,\n",
    "    name varchar,\n",
    "    email varchar,\n",
    "    fac_id integer,\n",
    "    status_id integer,\n",
    "    foreign key (status_id) references PeopleStatus(id),\n",
    "    foreign key (fac_id) references Faculties(id));\n",
    "create table Classes (\n",
    "    id integer primary key,\n",
    "    description varchar,\n",
    "    fac_id integer,\n",
    "    foreign key (fac_id) references Faculties(id));\n",
    "create table Semesters (\n",
    "    id integer primary key,\n",
    "    shortname varchar,\n",
    "    date_start date,\n",
    "    date_end date);\n",
    "create table ClassesSchedule (\n",
    "    id integer primary key,\n",
    "    class_id integer,\n",
    "    teacher_id integer,\n",
    "    semester_id integer,\n",
    "    week_day integer,\n",
    "    time_start varchar,\n",
    "    foreign key (class_id) references Classes(id),\n",
    "    foreign key (teacher_id) references People(id),\n",
    "    foreign key (semester_id) references Semesters(id));\n",
    "create table StudentsSchedule (\n",
    "    student_id integer,\n",
    "    classesschedule_id integer,\n",
    "    primary key (student_id, classesschedule_id),\n",
    "    foreign key (student_id) references People(id),\n",
    "    foreign key (classesschedule_id) references ClassesSchedule(id));"
   ]
  },
  {
   "cell_type": "markdown",
   "metadata": {},
   "source": [
    "## Добавление записей в таблицы\n",
    "Приведите примеры добавления записей в каждую из таблиц\n"
   ]
  },
  {
   "cell_type": "code",
   "execution_count": 9,
   "metadata": {
    "collapsed": false
   },
   "outputs": [
    {
     "name": "stdout",
     "output_type": "stream",
     "text": [
      "1 rows affected.\n",
      "1 rows affected.\n",
      "1 rows affected.\n",
      "1 rows affected.\n",
      "1 rows affected.\n",
      "1 rows affected.\n",
      "1 rows affected.\n",
      "1 rows affected.\n",
      "1 rows affected.\n",
      "1 rows affected.\n",
      "1 rows affected.\n",
      "1 rows affected.\n"
     ]
    },
    {
     "data": {
      "text/plain": [
       "[]"
      ]
     },
     "execution_count": 9,
     "metadata": {},
     "output_type": "execute_result"
    }
   ],
   "source": [
    "%%sql\n",
    "insert into PeopleStatus values(1, 'teacher');\n",
    "insert into PeopleStatus values(2, 'student');\n",
    "insert into Faculties values(1, 'Kib');\n",
    "insert into Faculties values(2, 'IT');\n",
    "insert into Semesters values(1, 'first', '2015-09-1', '2016-01-31');\n",
    "insert into Semesters values(2, 'second', '2016-02-1', '2016-07-1');\n",
    "insert into People values(1, 'Ivanov', 'Ivanov@ivanov.iv', 1, 2);\n",
    "insert into People values(2, 'Petrov', 'Petrov@petrov.pv', 1, 1);\n",
    "insert into Classes values(1, 'Maths', 1);\n",
    "insert into Classes values(2, 'ComputerScience', 2);\n",
    "insert into ClassesSchedule values(1, 1, 2, 1, 1, '9.00');\n",
    "insert into StudentsSchedule values(1, 1);\n"
   ]
  },
  {
   "cell_type": "markdown",
   "metadata": {},
   "source": [
    "Находится ли указанная схема ниже в BCNF? Напишите ниже функциональные зависимости, которые вы считаете, есть в указанной схеме. "
   ]
  },
  {
   "cell_type": "markdown",
   "metadata": {},
   "source": []
  }
 ],
 "metadata": {
  "kernelspec": {
   "display_name": "Python 3",
   "language": "python",
   "name": "python3"
  },
  "language_info": {
   "codemirror_mode": {
    "name": "ipython",
    "version": 3
   },
   "file_extension": ".py",
   "mimetype": "text/x-python",
   "name": "python",
   "nbconvert_exporter": "python",
   "pygments_lexer": "ipython3",
   "version": "3.6.0"
  }
 },
 "nbformat": 4,
 "nbformat_minor": 2
}
